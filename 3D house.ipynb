{
 "cells": [
  {
   "cell_type": "markdown",
   "metadata": {},
   "source": [
    "# Project : 3D House (Flanders)"
   ]
  },
  {
   "cell_type": "markdown",
   "metadata": {},
   "source": [
    "## For given address in Flanders need to plot the 3D House/building"
   ]
  },
  {
   "cell_type": "markdown",
   "metadata": {},
   "source": [
    "### Given the DSM, DTM tif files for flanders splitted in smaller tif zipped and stored on url\n",
    "\n",
    "DSM : http://www.geopunt.be/download?container=dhm-vlaanderen-ii-dsm-raster-1m&title=Digitaal%20Hoogtemodel%20Vlaanderen%20II,%20DSM,%20raster,%201m\n",
    "\n",
    "DTM:http://www.geopunt.be/download?container=dhm-vlaanderen-ii-dtm-raster-1m&title=Digitaal%20Hoogtemodel%20Vlaanderen%20II,%20DTM,%20raster,%201m\n"
   ]
  },
  {
   "cell_type": "markdown",
   "metadata": {},
   "source": [
    "# Importing the packages required"
   ]
  },
  {
   "cell_type": "code",
   "execution_count": 72,
   "metadata": {
    "scrolled": true
   },
   "outputs": [],
   "source": [
    "import gdal\n",
    "import rasterio as rio\n",
    "import geopandas as gpd\n",
    "import pandas as pd\n",
    "import matplotlib.pyplot as plt\n",
    "import plotly.graph_objects as go\n",
    "from matplotlib import pyplot\n",
    "from osgeo import gdal\n",
    "import numpy as np\n",
    "import requests\n",
    "import json\n",
    "import fiona\n",
    "import geopy\n",
    "import pyproj\n",
    "import shapely\n",
    "import osr\n",
    "import os\n",
    "import pygis\n",
    "import richdem as rd\n",
    "%matplotlib inline"
   ]
  },
  {
   "cell_type": "markdown",
   "metadata": {},
   "source": [
    "##  Loading all zip tif files from url "
   ]
  },
  {
   "cell_type": "code",
   "execution_count": 73,
   "metadata": {},
   "outputs": [],
   "source": [
    "downloadurl = 'http://www.geopunt.be/download?container=dhm-vlaanderen-ii-dsm-raster-1m&title=Digitaal%20Hoogtemodel%20Vlaanderen%20II,%20DSM,%20raster,%201m'"
   ]
  },
  {
   "cell_type": "markdown",
   "metadata": {},
   "source": [
    "#  Coding for a rendering 3d house from tiff file"
   ]
  },
  {
   "cell_type": "markdown",
   "metadata": {},
   "source": [
    "## Work Flow"
   ]
  },
  {
   "cell_type": "code",
   "execution_count": 76,
   "metadata": {},
   "outputs": [],
   "source": [
    "# 1 Get the address from the user\n",
    "# 2 Extract lat_lon from address by using lam_lat_lon function\n",
    "# 3 For all the zipped tif DTM & DSM on url form df of metadata.\n",
    "# 4 Form a df for all tiled tif files using tif_metadata function\n",
    "# 5 Find the tile in which the given co-oridinate is present\n",
    "# 6 3D of the location\n",
    "\n",
    "# Sample Address:Francis Wellesplein 1, 2018 Antwerpen (152074.52, 210653.91)\n",
    "# Sint-Pietersvliet 3, 2000 Antwerpen\n",
    "# Tavernierkaai 3, 2000 Antwerpen"
   ]
  },
  {
   "cell_type": "markdown",
   "metadata": {},
   "source": [
    "### Address to co-ordiante "
   ]
  },
  {
   "cell_type": "code",
   "execution_count": 83,
   "metadata": {},
   "outputs": [
    {
     "name": "stdout",
     "output_type": "stream",
     "text": [
      "Enter the Address as 'street_name', 'number', 'postcode', 'city' : Francis Wellesplein 1, 2018 Antwerpen\n"
     ]
    }
   ],
   "source": [
    "address = input(\"Enter the Address as 'street_name', 'number', 'postcode', 'city' : \")\n"
   ]
  },
  {
   "cell_type": "code",
   "execution_count": 86,
   "metadata": {},
   "outputs": [
    {
     "name": "stdout",
     "output_type": "stream",
     "text": [
      "<class 'tuple'>\n",
      "(152074.52, 210653.91)\n"
     ]
    }
   ],
   "source": [
    "def lam_lat_lon(address):\n",
    "    while True:\n",
    "        try:\n",
    "            req = requests.get(f\"http://loc.geopunt.be/geolocation/location?q={address}&c=1\",)\n",
    "            x = req.json()[\"LocationResult\"][0][\"Location\"][\"X_Lambert72\"]\n",
    "            y = req.json()[\"LocationResult\"][0][\"Location\"][\"Y_Lambert72\"]\n",
    "            return x, y\n",
    "            continue\n",
    "\n",
    "        except IndexError: \n",
    "            print(\"Entered address is not in correct format please retry\") \n",
    "            break\n",
    "\n",
    "given_loc = lam_lat_lon(address)\n",
    "print(type(given_loc))\n",
    "print(given_loc)"
   ]
  },
  {
   "cell_type": "markdown",
   "metadata": {},
   "source": [
    "###  Function for metadata of Bigger tif files"
   ]
  },
  {
   "cell_type": "code",
   "execution_count": 93,
   "metadata": {
    "scrolled": true
   },
   "outputs": [
    {
     "name": "stdout",
     "output_type": "stream",
     "text": [
      "[17000, 9000, (145000.0, 1.0, 0.0, 247000.0, 0.0, -1.0), 145000.0, 238000.0, 162000.0, 247000.0, (153500.5, 242499.5)]\n",
      "width 17000\n",
      "height 9000\n",
      "gt (145000.0, 1.0, 0.0, 247000.0, 0.0, -1.0)\n",
      "minx 145000.0\n",
      "miny 238000.0\n",
      "maxx 162000.0\n",
      "maxy 247000.0\n",
      "Center of tiff (153500.5, 242499.5)\n"
     ]
    }
   ],
   "source": [
    "# Defination for storing all the information about tile.\n",
    "\n",
    "in_dsm_path = 'D:/BeCode/Maps/Test/DSM_Files/' \n",
    "in_dsm_file = os.listdir(in_path) \n",
    "\n",
    "def tif_metadata(infile):\n",
    "    \n",
    "    ds = gdal.Open(infile)  #'path/to/file'\n",
    "    my_file = rio.open(infile)\n",
    "    \n",
    "    width = ds.RasterXSize\n",
    "    height = ds.RasterYSize\n",
    "    gt = ds.GetGeoTransform()\n",
    "    minx = gt[0]\n",
    "    miny = gt[3] + width*gt[4] + height*gt[5] \n",
    "    maxx = gt[0] + width*gt[1] + height*gt[2]\n",
    "    maxy = gt[3]     \n",
    "    center = my_file.xy((my_file.height // 2), (my_file.width // 2))    \n",
    "   \n",
    "    return [width, height, gt, minx, miny, maxx, maxy, center]\n",
    "\n",
    "\n",
    "tiffinfo = tif_metadata(in_dsm_path + in_dsm_file[0])\n",
    "print(tiffinfo)\n",
    "\n",
    "width = tiffinfo[0]\n",
    "print('width', width)\n",
    "height = tiffinfo[1]\n",
    "print('height', height)\n",
    "gt = tiffinfo[2]\n",
    "print('gt', gt)\n",
    "minx = tiffinfo[3]\n",
    "print('minx', minx)\n",
    "miny = tiffinfo[4]\n",
    "print('miny', miny)\n",
    "maxx = tiffinfo[5]\n",
    "print('maxx', maxx)\n",
    "maxy = tiffinfo[6]\n",
    "print('maxy', maxy)\n",
    "print(\"Center of tiff\", tiffinfo[7])"
   ]
  },
  {
   "cell_type": "markdown",
   "metadata": {},
   "source": [
    "### Splitting big tif to smaller chunks using GDAL"
   ]
  },
  {
   "cell_type": "code",
   "execution_count": 40,
   "metadata": {},
   "outputs": [],
   "source": [
    "# File name contains the \n",
    "\n",
    "in_path = 'D:/BeCode/Maps/Test/DSM_Files/'            #Input file path \n",
    "input_filename = 'DHMVIIDSMRAS1m_k15.tif'             # Input tif\n",
    "\n",
    "out_path = 'D:/BeCode/Maps/Test/Tiled_DSM_Output/'    #Tile files path\n",
    "output_filename = ''                                  # Output tif \n",
    "\n",
    "tile_size_x = 1000\n",
    "tile_size_y = 1000\n",
    "\n",
    "ds = gdal.Open(in_path + input_filename)\n",
    "band = ds.GetRasterBand(1)\n",
    "xsize = band.XSize  \n",
    "ysize = band.YSize\n",
    "\n",
    "gt = ds.GetGeoTransform()\n",
    "minx = gt[0]\n",
    "maxy = gt[3] \n",
    "\n",
    "for i in range(0, xsize, tile_size_x):     \n",
    "    for j in range(0, ysize, tile_size_y):        \n",
    "        com_string = \"gdal_translate -of GTIFF -srcwin \" + str(i)+ \", \" + str(j) + \", \" + str(tile_size_x) + \", \" + str(tile_size_y) + \" \" + str(in_path) + str(input_filename) + \" \" + str(out_path) + str(output_filename) + str(i) + \"_\" + str(j) + \"_namestart_\" + str(minx+(tile_size_x/2)+i) + \"_\" + str(maxy-(tile_size_y/2)-j) + \".tif\"\n",
    "        os.system(com_string)\n"
   ]
  },
  {
   "cell_type": "markdown",
   "metadata": {},
   "source": [
    "### Prepare dataframe for small tile tif files."
   ]
  },
  {
   "cell_type": "code",
   "execution_count": 41,
   "metadata": {},
   "outputs": [
    {
     "name": "stdout",
     "output_type": "stream",
     "text": [
      "                                         0  1      2          3  x_center  \\\n",
      "0      0_0_namestart_130500.0_217500.0.tif  0      0  namestart  130500.0   \n",
      "1      0_0_namestart_145500.0_246500.0.tif  0      0  namestart  145500.0   \n",
      "2      0_0_namestart_226500.0_226500.0.tif  0      0  namestart  226500.0   \n",
      "3  0_10000_namestart_130500.0_207500.0.tif  0  10000  namestart  130500.0   \n",
      "4   0_1000_namestart_130500.0_216500.0.tif  0   1000  namestart  130500.0   \n",
      "\n",
      "   y_center  \n",
      "0  217500.0  \n",
      "1  246500.0  \n",
      "2  226500.0  \n",
      "3  207500.0  \n",
      "4  216500.0  \n",
      "(902, 6)\n"
     ]
    }
   ],
   "source": [
    "out_path = 'D:/BeCode/Maps/Test/Tiled_DSM_Output/'\n",
    "\n",
    "files = os.listdir(out_path)\n",
    "namelist =[]\n",
    "for f in files:    \n",
    "    namelist.append(f)\n",
    "\n",
    "df = pd.DataFrame(namelist)\n",
    "df[['1','2','3','x_center','y_center']] = df[0].str.split('_',expand=True)\n",
    "df['y_center'] = df['y_center'].str.replace('.tif','')\n",
    "df['x_center'] = pd.to_numeric(df['x_center'], errors='ignore') #Str to int\n",
    "df['y_center'] = pd.to_numeric(df['y_center'], errors='ignore') #Str to int\n",
    "\n",
    "print(df.head())\n",
    "print(df.shape)"
   ]
  },
  {
   "cell_type": "code",
   "execution_count": 42,
   "metadata": {},
   "outputs": [
    {
     "name": "stdout",
     "output_type": "stream",
     "text": [
      "                                         0  1      2          3  x_center  \\\n",
      "0      0_0_namestart_130500.0_217500.0.tif  0      0  namestart  130500.0   \n",
      "1      0_0_namestart_145500.0_246500.0.tif  0      0  namestart  145500.0   \n",
      "2      0_0_namestart_226500.0_226500.0.tif  0      0  namestart  226500.0   \n",
      "3  0_10000_namestart_130500.0_207500.0.tif  0  10000  namestart  130500.0   \n",
      "4   0_1000_namestart_130500.0_216500.0.tif  0   1000  namestart  130500.0   \n",
      "\n",
      "   y_center                       geometry  \n",
      "0  217500.0  POINT (130500.000 217500.000)  \n",
      "1  246500.0  POINT (145500.000 246500.000)  \n",
      "2  226500.0  POINT (226500.000 226500.000)  \n",
      "3  207500.0  POINT (130500.000 207500.000)  \n",
      "4  216500.0  POINT (130500.000 216500.000)  \n"
     ]
    }
   ],
   "source": [
    "gdf = gpd.GeoDataFrame(df, geometry=gpd.points_from_xy(df.x_center, df.y_center))\n",
    "print(gdf.head())"
   ]
  },
  {
   "cell_type": "markdown",
   "metadata": {},
   "source": [
    "### Nearest tile center from geo data frame"
   ]
  },
  {
   "cell_type": "code",
   "execution_count": 43,
   "metadata": {},
   "outputs": [
    {
     "data": {
      "text/plain": [
       "'POINT (151500 211500)'"
      ]
     },
     "execution_count": 43,
     "metadata": {},
     "output_type": "execute_result"
    }
   ],
   "source": [
    "\n",
    "from shapely.geometry import Point, MultiPoint\n",
    "from shapely.ops import nearest_points\n",
    "\n",
    "def tile_finder():\n",
    "    \n",
    "    pts = gdf['geometry']\n",
    "    pts =  pts.unary_union # convert to Shapely MultiPoint geometry\n",
    "    pt = Point(lam_lat_lon(address))   # Tuple to Point conversion\n",
    "    output = [o.wkt for o in nearest_points(pt, pts)]\n",
    "        \n",
    "    return output[1]\n",
    "\n",
    "tile_finder()"
   ]
  },
  {
   "cell_type": "markdown",
   "metadata": {},
   "source": [
    "### Identify the tile name for the given_loc"
   ]
  },
  {
   "cell_type": "code",
   "execution_count": 46,
   "metadata": {},
   "outputs": [
    {
     "name": "stdout",
     "output_type": "stream",
     "text": [
      "['21000_6000_namestart_151500.0_211500.0.tif']\n"
     ]
    }
   ],
   "source": [
    "# Identify the file name containg the tile.\n",
    "\n",
    "out_path = 'D:/BeCode/Maps/Test/Tiled_DSM_output/'\n",
    "rawinfile = tile_finder()                           # Tile center point \n",
    "#print(rawinfile)\n",
    "sp = rawinfile.split(\" \")\n",
    "fn = (sp[1])[1:] + \".0_\" + (sp[2][:-1]) + \".0\"\n",
    "tile_filename = [d for d in os.listdir(out_path) if fn in d]\n",
    "print(tile_filename)"
   ]
  },
  {
   "cell_type": "code",
   "execution_count": 48,
   "metadata": {},
   "outputs": [
    {
     "name": "stdout",
     "output_type": "stream",
     "text": [
      "D:/BeCode/Maps/Test/Tiled_DTM_Output/21000_6000_namestart_151500.0_211500.0.tif\n",
      "D:/BeCode/Maps/Test/Tiled_DSM_Output/21000_6000_namestart_151500.0_211500.0.tif\n"
     ]
    }
   ],
   "source": [
    "tile_dsmfile = 'D:/BeCode/Maps/Test/Tiled_DSM_Output/' + str(tile_filename[0])\n",
    "tile_dtmfile = 'D:/BeCode/Maps/Test/Tiled_DTM_Output/' + str(tile_filename[0])\n",
    "\n",
    "print(tile_dtmfile)\n",
    "print(tile_dsmfile)\n"
   ]
  },
  {
   "cell_type": "code",
   "execution_count": 49,
   "metadata": {},
   "outputs": [],
   "source": [
    "# API for address = https: //https://api.basisregisters.dev-vlaanderen.be/v1/adresmatch {objectId}\n",
    "# API for Building = https://api.basisregisters.dev-vlaanderen.be/v1/gebouweenheden/ {objectId} \n",
    "# API for polygon =https://api.basisregisters.dev-vlaanderen.be/v1/gebouwen/\n",
    "#address = (Leopold de Waelplaats 2, 2000 Antwerpen (151757.75, 211106.12))\n",
    "\n",
    "import regex as re\n",
    "\n",
    "address_regx = re.compile(\"^([A-z- ]+)\\s(\\d+),\\s(\\d+)\\s([A-z]+)\")\n",
    "result = address_regx.search(address)  #Address from user\n",
    "street = result.group(1)\n",
    "nb = result.group(2)\n",
    "pc = result.group(3)\n",
    "city = result.group(4)\n",
    "\n",
    "req1 = requests.get(f\"https://api.basisregisters.dev-vlaanderen.be/v1/adresmatch?gemeentenaam={city}&straatnaam={street}&huisnummer={nb}&postcode={pc}\").json()\n",
    "objectId = req1[\"adresMatches\"][0][\"adresseerbareObjecten\"][0][\"objectId\"]\n",
    "\n",
    "req2 = requests.get(f\"https://api.basisregisters.dev-vlaanderen.be/v1/gebouweenheden/{objectId}\").json()\n",
    "objectId = req2[\"gebouw\"][\"objectId\"]\n",
    "\n",
    "req3 = requests.get(f\"https://api.basisregisters.dev-vlaanderen.be/v1/gebouwen/{objectId}\").json()\n",
    "polygon = [req3[\"geometriePolygoon\"][\"polygon\"]]\n",
    "#polygon\n"
   ]
  },
  {
   "cell_type": "code",
   "execution_count": 94,
   "metadata": {},
   "outputs": [
    {
     "data": {
      "application/vnd.plotly.v1+json": {
       "config": {
        "plotlyServerURL": "https://plot.ly"
       },
       "data": [
        {
         "type": "surface",
         "z": [
          [
           0,
           0,
           0,
           0,
           0,
           0,
           0,
           0,
           0,
           0,
           0,
           0,
           0,
           0
          ],
          [
           0,
           0,
           0,
           0,
           0,
           0,
           22.809999465942383,
           24.799999237060547,
           0,
           0,
           0,
           0,
           0,
           0
          ],
          [
           0,
           0,
           0,
           0,
           0,
           0,
           23.420000076293945,
           24.139999389648438,
           24.959999084472656,
           0,
           0,
           0,
           0,
           0
          ],
          [
           0,
           0,
           0,
           0,
           0,
           17.34000015258789,
           12.140000343322754,
           24.739999771118164,
           25.510000228881836,
           26.299999237060547,
           0,
           0,
           0,
           0
          ],
          [
           0,
           0,
           0,
           0,
           23.260000228881836,
           20.229999542236328,
           11.739999771118164,
           25.3799991607666,
           26.110000610351562,
           26.360000610351562,
           25.639999389648438,
           24.940000534057617,
           0,
           0
          ],
          [
           0,
           0,
           0,
           25.670000076293945,
           25.209999084472656,
           24.989999771118164,
           24.489999771118164,
           25.93000030517578,
           26.450000762939453,
           25.760000228881836,
           25.030000686645508,
           24.299999237060547,
           23.6200008392334,
           0
          ],
          [
           0,
           0,
           0,
           26.18000030517578,
           25.75,
           23.110000610351562,
           25.709999084472656,
           26.510000228881836,
           25.899999618530273,
           25.15999984741211,
           24.440000534057617,
           23.829999923706055,
           21.649999618530273,
           0
          ],
          [
           0,
           0,
           25.920000076293945,
           26.489999771118164,
           26.270000457763672,
           25.8799991607666,
           26.329999923706055,
           26.059999465942383,
           25.260000228881836,
           24.610000610351562,
           23.84000015258789,
           16.200000762939453,
           0,
           0
          ],
          [
           0,
           24.65999984741211,
           25.1299991607666,
           25.649999618530273,
           26.229999542236328,
           26.389999389648438,
           26.209999084472656,
           25.440000534057617,
           24.729999542236328,
           24.06999969482422,
           23.34000015258789,
           0,
           0,
           0
          ],
          [
           23.31999969482422,
           23.8799991607666,
           24.440000534057617,
           24.8799991607666,
           25.489999771118164,
           25.989999771118164,
           25.59000015258789,
           24.8700008392334,
           24.200000762939453,
           23.559999465942383,
           17.190000534057617,
           0,
           0,
           0
          ],
          [
           0,
           23.110000610351562,
           23.649999618530273,
           24.200000762939453,
           24.780000686645508,
           25.309999465942383,
           25.059999465942383,
           24.34000015258789,
           23.670000076293945,
           22.59000015258789,
           0,
           0,
           0,
           0
          ],
          [
           0,
           0,
           23.030000686645508,
           23.479999542236328,
           24.020000457763672,
           24.559999465942383,
           24.459999084472656,
           23.760000228881836,
           19.979999542236328,
           0,
           0,
           0,
           0,
           0
          ],
          [
           0,
           0,
           0,
           0,
           23.350000381469727,
           23.8799991607666,
           23.90999984741211,
           23.270000457763672,
           0,
           0,
           0,
           0,
           0,
           0
          ],
          [
           0,
           0,
           0,
           0,
           0,
           23.239999771118164,
           23.420000076293945,
           15.779999732971191,
           0,
           0,
           0,
           0,
           0,
           0
          ],
          [
           0,
           0,
           0,
           0,
           0,
           0,
           15.850000381469727,
           0,
           0,
           0,
           0,
           0,
           0,
           0
          ]
         ]
        }
       ],
       "layout": {
        "autosize": true,
        "template": {
         "data": {
          "bar": [
           {
            "error_x": {
             "color": "#2a3f5f"
            },
            "error_y": {
             "color": "#2a3f5f"
            },
            "marker": {
             "line": {
              "color": "#E5ECF6",
              "width": 0.5
             }
            },
            "type": "bar"
           }
          ],
          "barpolar": [
           {
            "marker": {
             "line": {
              "color": "#E5ECF6",
              "width": 0.5
             }
            },
            "type": "barpolar"
           }
          ],
          "carpet": [
           {
            "aaxis": {
             "endlinecolor": "#2a3f5f",
             "gridcolor": "white",
             "linecolor": "white",
             "minorgridcolor": "white",
             "startlinecolor": "#2a3f5f"
            },
            "baxis": {
             "endlinecolor": "#2a3f5f",
             "gridcolor": "white",
             "linecolor": "white",
             "minorgridcolor": "white",
             "startlinecolor": "#2a3f5f"
            },
            "type": "carpet"
           }
          ],
          "choropleth": [
           {
            "colorbar": {
             "outlinewidth": 0,
             "ticks": ""
            },
            "type": "choropleth"
           }
          ],
          "contour": [
           {
            "colorbar": {
             "outlinewidth": 0,
             "ticks": ""
            },
            "colorscale": [
             [
              0,
              "#0d0887"
             ],
             [
              0.1111111111111111,
              "#46039f"
             ],
             [
              0.2222222222222222,
              "#7201a8"
             ],
             [
              0.3333333333333333,
              "#9c179e"
             ],
             [
              0.4444444444444444,
              "#bd3786"
             ],
             [
              0.5555555555555556,
              "#d8576b"
             ],
             [
              0.6666666666666666,
              "#ed7953"
             ],
             [
              0.7777777777777778,
              "#fb9f3a"
             ],
             [
              0.8888888888888888,
              "#fdca26"
             ],
             [
              1,
              "#f0f921"
             ]
            ],
            "type": "contour"
           }
          ],
          "contourcarpet": [
           {
            "colorbar": {
             "outlinewidth": 0,
             "ticks": ""
            },
            "type": "contourcarpet"
           }
          ],
          "heatmap": [
           {
            "colorbar": {
             "outlinewidth": 0,
             "ticks": ""
            },
            "colorscale": [
             [
              0,
              "#0d0887"
             ],
             [
              0.1111111111111111,
              "#46039f"
             ],
             [
              0.2222222222222222,
              "#7201a8"
             ],
             [
              0.3333333333333333,
              "#9c179e"
             ],
             [
              0.4444444444444444,
              "#bd3786"
             ],
             [
              0.5555555555555556,
              "#d8576b"
             ],
             [
              0.6666666666666666,
              "#ed7953"
             ],
             [
              0.7777777777777778,
              "#fb9f3a"
             ],
             [
              0.8888888888888888,
              "#fdca26"
             ],
             [
              1,
              "#f0f921"
             ]
            ],
            "type": "heatmap"
           }
          ],
          "heatmapgl": [
           {
            "colorbar": {
             "outlinewidth": 0,
             "ticks": ""
            },
            "colorscale": [
             [
              0,
              "#0d0887"
             ],
             [
              0.1111111111111111,
              "#46039f"
             ],
             [
              0.2222222222222222,
              "#7201a8"
             ],
             [
              0.3333333333333333,
              "#9c179e"
             ],
             [
              0.4444444444444444,
              "#bd3786"
             ],
             [
              0.5555555555555556,
              "#d8576b"
             ],
             [
              0.6666666666666666,
              "#ed7953"
             ],
             [
              0.7777777777777778,
              "#fb9f3a"
             ],
             [
              0.8888888888888888,
              "#fdca26"
             ],
             [
              1,
              "#f0f921"
             ]
            ],
            "type": "heatmapgl"
           }
          ],
          "histogram": [
           {
            "marker": {
             "colorbar": {
              "outlinewidth": 0,
              "ticks": ""
             }
            },
            "type": "histogram"
           }
          ],
          "histogram2d": [
           {
            "colorbar": {
             "outlinewidth": 0,
             "ticks": ""
            },
            "colorscale": [
             [
              0,
              "#0d0887"
             ],
             [
              0.1111111111111111,
              "#46039f"
             ],
             [
              0.2222222222222222,
              "#7201a8"
             ],
             [
              0.3333333333333333,
              "#9c179e"
             ],
             [
              0.4444444444444444,
              "#bd3786"
             ],
             [
              0.5555555555555556,
              "#d8576b"
             ],
             [
              0.6666666666666666,
              "#ed7953"
             ],
             [
              0.7777777777777778,
              "#fb9f3a"
             ],
             [
              0.8888888888888888,
              "#fdca26"
             ],
             [
              1,
              "#f0f921"
             ]
            ],
            "type": "histogram2d"
           }
          ],
          "histogram2dcontour": [
           {
            "colorbar": {
             "outlinewidth": 0,
             "ticks": ""
            },
            "colorscale": [
             [
              0,
              "#0d0887"
             ],
             [
              0.1111111111111111,
              "#46039f"
             ],
             [
              0.2222222222222222,
              "#7201a8"
             ],
             [
              0.3333333333333333,
              "#9c179e"
             ],
             [
              0.4444444444444444,
              "#bd3786"
             ],
             [
              0.5555555555555556,
              "#d8576b"
             ],
             [
              0.6666666666666666,
              "#ed7953"
             ],
             [
              0.7777777777777778,
              "#fb9f3a"
             ],
             [
              0.8888888888888888,
              "#fdca26"
             ],
             [
              1,
              "#f0f921"
             ]
            ],
            "type": "histogram2dcontour"
           }
          ],
          "mesh3d": [
           {
            "colorbar": {
             "outlinewidth": 0,
             "ticks": ""
            },
            "type": "mesh3d"
           }
          ],
          "parcoords": [
           {
            "line": {
             "colorbar": {
              "outlinewidth": 0,
              "ticks": ""
             }
            },
            "type": "parcoords"
           }
          ],
          "pie": [
           {
            "automargin": true,
            "type": "pie"
           }
          ],
          "scatter": [
           {
            "marker": {
             "colorbar": {
              "outlinewidth": 0,
              "ticks": ""
             }
            },
            "type": "scatter"
           }
          ],
          "scatter3d": [
           {
            "line": {
             "colorbar": {
              "outlinewidth": 0,
              "ticks": ""
             }
            },
            "marker": {
             "colorbar": {
              "outlinewidth": 0,
              "ticks": ""
             }
            },
            "type": "scatter3d"
           }
          ],
          "scattercarpet": [
           {
            "marker": {
             "colorbar": {
              "outlinewidth": 0,
              "ticks": ""
             }
            },
            "type": "scattercarpet"
           }
          ],
          "scattergeo": [
           {
            "marker": {
             "colorbar": {
              "outlinewidth": 0,
              "ticks": ""
             }
            },
            "type": "scattergeo"
           }
          ],
          "scattergl": [
           {
            "marker": {
             "colorbar": {
              "outlinewidth": 0,
              "ticks": ""
             }
            },
            "type": "scattergl"
           }
          ],
          "scattermapbox": [
           {
            "marker": {
             "colorbar": {
              "outlinewidth": 0,
              "ticks": ""
             }
            },
            "type": "scattermapbox"
           }
          ],
          "scatterpolar": [
           {
            "marker": {
             "colorbar": {
              "outlinewidth": 0,
              "ticks": ""
             }
            },
            "type": "scatterpolar"
           }
          ],
          "scatterpolargl": [
           {
            "marker": {
             "colorbar": {
              "outlinewidth": 0,
              "ticks": ""
             }
            },
            "type": "scatterpolargl"
           }
          ],
          "scatterternary": [
           {
            "marker": {
             "colorbar": {
              "outlinewidth": 0,
              "ticks": ""
             }
            },
            "type": "scatterternary"
           }
          ],
          "surface": [
           {
            "colorbar": {
             "outlinewidth": 0,
             "ticks": ""
            },
            "colorscale": [
             [
              0,
              "#0d0887"
             ],
             [
              0.1111111111111111,
              "#46039f"
             ],
             [
              0.2222222222222222,
              "#7201a8"
             ],
             [
              0.3333333333333333,
              "#9c179e"
             ],
             [
              0.4444444444444444,
              "#bd3786"
             ],
             [
              0.5555555555555556,
              "#d8576b"
             ],
             [
              0.6666666666666666,
              "#ed7953"
             ],
             [
              0.7777777777777778,
              "#fb9f3a"
             ],
             [
              0.8888888888888888,
              "#fdca26"
             ],
             [
              1,
              "#f0f921"
             ]
            ],
            "type": "surface"
           }
          ],
          "table": [
           {
            "cells": {
             "fill": {
              "color": "#EBF0F8"
             },
             "line": {
              "color": "white"
             }
            },
            "header": {
             "fill": {
              "color": "#C8D4E3"
             },
             "line": {
              "color": "white"
             }
            },
            "type": "table"
           }
          ]
         },
         "layout": {
          "annotationdefaults": {
           "arrowcolor": "#2a3f5f",
           "arrowhead": 0,
           "arrowwidth": 1
          },
          "coloraxis": {
           "colorbar": {
            "outlinewidth": 0,
            "ticks": ""
           }
          },
          "colorscale": {
           "diverging": [
            [
             0,
             "#8e0152"
            ],
            [
             0.1,
             "#c51b7d"
            ],
            [
             0.2,
             "#de77ae"
            ],
            [
             0.3,
             "#f1b6da"
            ],
            [
             0.4,
             "#fde0ef"
            ],
            [
             0.5,
             "#f7f7f7"
            ],
            [
             0.6,
             "#e6f5d0"
            ],
            [
             0.7,
             "#b8e186"
            ],
            [
             0.8,
             "#7fbc41"
            ],
            [
             0.9,
             "#4d9221"
            ],
            [
             1,
             "#276419"
            ]
           ],
           "sequential": [
            [
             0,
             "#0d0887"
            ],
            [
             0.1111111111111111,
             "#46039f"
            ],
            [
             0.2222222222222222,
             "#7201a8"
            ],
            [
             0.3333333333333333,
             "#9c179e"
            ],
            [
             0.4444444444444444,
             "#bd3786"
            ],
            [
             0.5555555555555556,
             "#d8576b"
            ],
            [
             0.6666666666666666,
             "#ed7953"
            ],
            [
             0.7777777777777778,
             "#fb9f3a"
            ],
            [
             0.8888888888888888,
             "#fdca26"
            ],
            [
             1,
             "#f0f921"
            ]
           ],
           "sequentialminus": [
            [
             0,
             "#0d0887"
            ],
            [
             0.1111111111111111,
             "#46039f"
            ],
            [
             0.2222222222222222,
             "#7201a8"
            ],
            [
             0.3333333333333333,
             "#9c179e"
            ],
            [
             0.4444444444444444,
             "#bd3786"
            ],
            [
             0.5555555555555556,
             "#d8576b"
            ],
            [
             0.6666666666666666,
             "#ed7953"
            ],
            [
             0.7777777777777778,
             "#fb9f3a"
            ],
            [
             0.8888888888888888,
             "#fdca26"
            ],
            [
             1,
             "#f0f921"
            ]
           ]
          },
          "colorway": [
           "#636efa",
           "#EF553B",
           "#00cc96",
           "#ab63fa",
           "#FFA15A",
           "#19d3f3",
           "#FF6692",
           "#B6E880",
           "#FF97FF",
           "#FECB52"
          ],
          "font": {
           "color": "#2a3f5f"
          },
          "geo": {
           "bgcolor": "white",
           "lakecolor": "white",
           "landcolor": "#E5ECF6",
           "showlakes": true,
           "showland": true,
           "subunitcolor": "white"
          },
          "hoverlabel": {
           "align": "left"
          },
          "hovermode": "closest",
          "mapbox": {
           "style": "light"
          },
          "paper_bgcolor": "white",
          "plot_bgcolor": "#E5ECF6",
          "polar": {
           "angularaxis": {
            "gridcolor": "white",
            "linecolor": "white",
            "ticks": ""
           },
           "bgcolor": "#E5ECF6",
           "radialaxis": {
            "gridcolor": "white",
            "linecolor": "white",
            "ticks": ""
           }
          },
          "scene": {
           "xaxis": {
            "backgroundcolor": "#E5ECF6",
            "gridcolor": "white",
            "gridwidth": 2,
            "linecolor": "white",
            "showbackground": true,
            "ticks": "",
            "zerolinecolor": "white"
           },
           "yaxis": {
            "backgroundcolor": "#E5ECF6",
            "gridcolor": "white",
            "gridwidth": 2,
            "linecolor": "white",
            "showbackground": true,
            "ticks": "",
            "zerolinecolor": "white"
           },
           "zaxis": {
            "backgroundcolor": "#E5ECF6",
            "gridcolor": "white",
            "gridwidth": 2,
            "linecolor": "white",
            "showbackground": true,
            "ticks": "",
            "zerolinecolor": "white"
           }
          },
          "shapedefaults": {
           "line": {
            "color": "#2a3f5f"
           }
          },
          "ternary": {
           "aaxis": {
            "gridcolor": "white",
            "linecolor": "white",
            "ticks": ""
           },
           "baxis": {
            "gridcolor": "white",
            "linecolor": "white",
            "ticks": ""
           },
           "bgcolor": "#E5ECF6",
           "caxis": {
            "gridcolor": "white",
            "linecolor": "white",
            "ticks": ""
           }
          },
          "title": {
           "x": 0.05
          },
          "xaxis": {
           "automargin": true,
           "gridcolor": "white",
           "linecolor": "white",
           "ticks": "",
           "title": {
            "standoff": 15
           },
           "zerolinecolor": "white",
           "zerolinewidth": 2
          },
          "yaxis": {
           "automargin": true,
           "gridcolor": "white",
           "linecolor": "white",
           "ticks": "",
           "title": {
            "standoff": 15
           },
           "zerolinecolor": "white",
           "zerolinewidth": 2
          }
         }
        },
        "title": {
         "text": "3D Plot"
        }
       }
      },
      "text/html": [
       "<div>\n",
       "        \n",
       "        \n",
       "            <div id=\"a9549f6c-ed3c-4f47-b8f7-9b6123c27180\" class=\"plotly-graph-div\" style=\"height:525px; width:100%;\"></div>\n",
       "            <script type=\"text/javascript\">\n",
       "                require([\"plotly\"], function(Plotly) {\n",
       "                    window.PLOTLYENV=window.PLOTLYENV || {};\n",
       "                    \n",
       "                if (document.getElementById(\"a9549f6c-ed3c-4f47-b8f7-9b6123c27180\")) {\n",
       "                    Plotly.newPlot(\n",
       "                        'a9549f6c-ed3c-4f47-b8f7-9b6123c27180',\n",
       "                        [{\"type\": \"surface\", \"z\": [[0.0, 0.0, 0.0, 0.0, 0.0, 0.0, 0.0, 0.0, 0.0, 0.0, 0.0, 0.0, 0.0, 0.0], [0.0, 0.0, 0.0, 0.0, 0.0, 0.0, 22.809999465942383, 24.799999237060547, 0.0, 0.0, 0.0, 0.0, 0.0, 0.0], [0.0, 0.0, 0.0, 0.0, 0.0, 0.0, 23.420000076293945, 24.139999389648438, 24.959999084472656, 0.0, 0.0, 0.0, 0.0, 0.0], [0.0, 0.0, 0.0, 0.0, 0.0, 17.34000015258789, 12.140000343322754, 24.739999771118164, 25.510000228881836, 26.299999237060547, 0.0, 0.0, 0.0, 0.0], [0.0, 0.0, 0.0, 0.0, 23.260000228881836, 20.229999542236328, 11.739999771118164, 25.3799991607666, 26.110000610351562, 26.360000610351562, 25.639999389648438, 24.940000534057617, 0.0, 0.0], [0.0, 0.0, 0.0, 25.670000076293945, 25.209999084472656, 24.989999771118164, 24.489999771118164, 25.93000030517578, 26.450000762939453, 25.760000228881836, 25.030000686645508, 24.299999237060547, 23.6200008392334, 0.0], [0.0, 0.0, 0.0, 26.18000030517578, 25.75, 23.110000610351562, 25.709999084472656, 26.510000228881836, 25.899999618530273, 25.15999984741211, 24.440000534057617, 23.829999923706055, 21.649999618530273, 0.0], [0.0, 0.0, 25.920000076293945, 26.489999771118164, 26.270000457763672, 25.8799991607666, 26.329999923706055, 26.059999465942383, 25.260000228881836, 24.610000610351562, 23.84000015258789, 16.200000762939453, 0.0, 0.0], [0.0, 24.65999984741211, 25.1299991607666, 25.649999618530273, 26.229999542236328, 26.389999389648438, 26.209999084472656, 25.440000534057617, 24.729999542236328, 24.06999969482422, 23.34000015258789, 0.0, 0.0, 0.0], [23.31999969482422, 23.8799991607666, 24.440000534057617, 24.8799991607666, 25.489999771118164, 25.989999771118164, 25.59000015258789, 24.8700008392334, 24.200000762939453, 23.559999465942383, 17.190000534057617, 0.0, 0.0, 0.0], [0.0, 23.110000610351562, 23.649999618530273, 24.200000762939453, 24.780000686645508, 25.309999465942383, 25.059999465942383, 24.34000015258789, 23.670000076293945, 22.59000015258789, 0.0, 0.0, 0.0, 0.0], [0.0, 0.0, 23.030000686645508, 23.479999542236328, 24.020000457763672, 24.559999465942383, 24.459999084472656, 23.760000228881836, 19.979999542236328, 0.0, 0.0, 0.0, 0.0, 0.0], [0.0, 0.0, 0.0, 0.0, 23.350000381469727, 23.8799991607666, 23.90999984741211, 23.270000457763672, 0.0, 0.0, 0.0, 0.0, 0.0, 0.0], [0.0, 0.0, 0.0, 0.0, 0.0, 23.239999771118164, 23.420000076293945, 15.779999732971191, 0.0, 0.0, 0.0, 0.0, 0.0, 0.0], [0.0, 0.0, 0.0, 0.0, 0.0, 0.0, 15.850000381469727, 0.0, 0.0, 0.0, 0.0, 0.0, 0.0, 0.0]]}],\n",
       "                        {\"autosize\": true, \"template\": {\"data\": {\"bar\": [{\"error_x\": {\"color\": \"#2a3f5f\"}, \"error_y\": {\"color\": \"#2a3f5f\"}, \"marker\": {\"line\": {\"color\": \"#E5ECF6\", \"width\": 0.5}}, \"type\": \"bar\"}], \"barpolar\": [{\"marker\": {\"line\": {\"color\": \"#E5ECF6\", \"width\": 0.5}}, \"type\": \"barpolar\"}], \"carpet\": [{\"aaxis\": {\"endlinecolor\": \"#2a3f5f\", \"gridcolor\": \"white\", \"linecolor\": \"white\", \"minorgridcolor\": \"white\", \"startlinecolor\": \"#2a3f5f\"}, \"baxis\": {\"endlinecolor\": \"#2a3f5f\", \"gridcolor\": \"white\", \"linecolor\": \"white\", \"minorgridcolor\": \"white\", \"startlinecolor\": \"#2a3f5f\"}, \"type\": \"carpet\"}], \"choropleth\": [{\"colorbar\": {\"outlinewidth\": 0, \"ticks\": \"\"}, \"type\": \"choropleth\"}], \"contour\": [{\"colorbar\": {\"outlinewidth\": 0, \"ticks\": \"\"}, \"colorscale\": [[0.0, \"#0d0887\"], [0.1111111111111111, \"#46039f\"], [0.2222222222222222, \"#7201a8\"], [0.3333333333333333, \"#9c179e\"], [0.4444444444444444, \"#bd3786\"], [0.5555555555555556, \"#d8576b\"], [0.6666666666666666, \"#ed7953\"], [0.7777777777777778, \"#fb9f3a\"], [0.8888888888888888, \"#fdca26\"], [1.0, \"#f0f921\"]], \"type\": \"contour\"}], \"contourcarpet\": [{\"colorbar\": {\"outlinewidth\": 0, \"ticks\": \"\"}, \"type\": \"contourcarpet\"}], \"heatmap\": [{\"colorbar\": {\"outlinewidth\": 0, \"ticks\": \"\"}, \"colorscale\": [[0.0, \"#0d0887\"], [0.1111111111111111, \"#46039f\"], [0.2222222222222222, \"#7201a8\"], [0.3333333333333333, \"#9c179e\"], [0.4444444444444444, \"#bd3786\"], [0.5555555555555556, \"#d8576b\"], [0.6666666666666666, \"#ed7953\"], [0.7777777777777778, \"#fb9f3a\"], [0.8888888888888888, \"#fdca26\"], [1.0, \"#f0f921\"]], \"type\": \"heatmap\"}], \"heatmapgl\": [{\"colorbar\": {\"outlinewidth\": 0, \"ticks\": \"\"}, \"colorscale\": [[0.0, \"#0d0887\"], [0.1111111111111111, \"#46039f\"], [0.2222222222222222, \"#7201a8\"], [0.3333333333333333, \"#9c179e\"], [0.4444444444444444, \"#bd3786\"], [0.5555555555555556, \"#d8576b\"], [0.6666666666666666, \"#ed7953\"], [0.7777777777777778, \"#fb9f3a\"], [0.8888888888888888, \"#fdca26\"], [1.0, \"#f0f921\"]], \"type\": \"heatmapgl\"}], \"histogram\": [{\"marker\": {\"colorbar\": {\"outlinewidth\": 0, \"ticks\": \"\"}}, \"type\": \"histogram\"}], \"histogram2d\": [{\"colorbar\": {\"outlinewidth\": 0, \"ticks\": \"\"}, \"colorscale\": [[0.0, \"#0d0887\"], [0.1111111111111111, \"#46039f\"], [0.2222222222222222, \"#7201a8\"], [0.3333333333333333, \"#9c179e\"], [0.4444444444444444, \"#bd3786\"], [0.5555555555555556, \"#d8576b\"], [0.6666666666666666, \"#ed7953\"], [0.7777777777777778, \"#fb9f3a\"], [0.8888888888888888, \"#fdca26\"], [1.0, \"#f0f921\"]], \"type\": \"histogram2d\"}], \"histogram2dcontour\": [{\"colorbar\": {\"outlinewidth\": 0, \"ticks\": \"\"}, \"colorscale\": [[0.0, \"#0d0887\"], [0.1111111111111111, \"#46039f\"], [0.2222222222222222, \"#7201a8\"], [0.3333333333333333, \"#9c179e\"], [0.4444444444444444, \"#bd3786\"], [0.5555555555555556, \"#d8576b\"], [0.6666666666666666, \"#ed7953\"], [0.7777777777777778, \"#fb9f3a\"], [0.8888888888888888, \"#fdca26\"], [1.0, \"#f0f921\"]], \"type\": \"histogram2dcontour\"}], \"mesh3d\": [{\"colorbar\": {\"outlinewidth\": 0, \"ticks\": \"\"}, \"type\": \"mesh3d\"}], \"parcoords\": [{\"line\": {\"colorbar\": {\"outlinewidth\": 0, \"ticks\": \"\"}}, \"type\": \"parcoords\"}], \"pie\": [{\"automargin\": true, \"type\": \"pie\"}], \"scatter\": [{\"marker\": {\"colorbar\": {\"outlinewidth\": 0, \"ticks\": \"\"}}, \"type\": \"scatter\"}], \"scatter3d\": [{\"line\": {\"colorbar\": {\"outlinewidth\": 0, \"ticks\": \"\"}}, \"marker\": {\"colorbar\": {\"outlinewidth\": 0, \"ticks\": \"\"}}, \"type\": \"scatter3d\"}], \"scattercarpet\": [{\"marker\": {\"colorbar\": {\"outlinewidth\": 0, \"ticks\": \"\"}}, \"type\": \"scattercarpet\"}], \"scattergeo\": [{\"marker\": {\"colorbar\": {\"outlinewidth\": 0, \"ticks\": \"\"}}, \"type\": \"scattergeo\"}], \"scattergl\": [{\"marker\": {\"colorbar\": {\"outlinewidth\": 0, \"ticks\": \"\"}}, \"type\": \"scattergl\"}], \"scattermapbox\": [{\"marker\": {\"colorbar\": {\"outlinewidth\": 0, \"ticks\": \"\"}}, \"type\": \"scattermapbox\"}], \"scatterpolar\": [{\"marker\": {\"colorbar\": {\"outlinewidth\": 0, \"ticks\": \"\"}}, \"type\": \"scatterpolar\"}], \"scatterpolargl\": [{\"marker\": {\"colorbar\": {\"outlinewidth\": 0, \"ticks\": \"\"}}, \"type\": \"scatterpolargl\"}], \"scatterternary\": [{\"marker\": {\"colorbar\": {\"outlinewidth\": 0, \"ticks\": \"\"}}, \"type\": \"scatterternary\"}], \"surface\": [{\"colorbar\": {\"outlinewidth\": 0, \"ticks\": \"\"}, \"colorscale\": [[0.0, \"#0d0887\"], [0.1111111111111111, \"#46039f\"], [0.2222222222222222, \"#7201a8\"], [0.3333333333333333, \"#9c179e\"], [0.4444444444444444, \"#bd3786\"], [0.5555555555555556, \"#d8576b\"], [0.6666666666666666, \"#ed7953\"], [0.7777777777777778, \"#fb9f3a\"], [0.8888888888888888, \"#fdca26\"], [1.0, \"#f0f921\"]], \"type\": \"surface\"}], \"table\": [{\"cells\": {\"fill\": {\"color\": \"#EBF0F8\"}, \"line\": {\"color\": \"white\"}}, \"header\": {\"fill\": {\"color\": \"#C8D4E3\"}, \"line\": {\"color\": \"white\"}}, \"type\": \"table\"}]}, \"layout\": {\"annotationdefaults\": {\"arrowcolor\": \"#2a3f5f\", \"arrowhead\": 0, \"arrowwidth\": 1}, \"coloraxis\": {\"colorbar\": {\"outlinewidth\": 0, \"ticks\": \"\"}}, \"colorscale\": {\"diverging\": [[0, \"#8e0152\"], [0.1, \"#c51b7d\"], [0.2, \"#de77ae\"], [0.3, \"#f1b6da\"], [0.4, \"#fde0ef\"], [0.5, \"#f7f7f7\"], [0.6, \"#e6f5d0\"], [0.7, \"#b8e186\"], [0.8, \"#7fbc41\"], [0.9, \"#4d9221\"], [1, \"#276419\"]], \"sequential\": [[0.0, \"#0d0887\"], [0.1111111111111111, \"#46039f\"], [0.2222222222222222, \"#7201a8\"], [0.3333333333333333, \"#9c179e\"], [0.4444444444444444, \"#bd3786\"], [0.5555555555555556, \"#d8576b\"], [0.6666666666666666, \"#ed7953\"], [0.7777777777777778, \"#fb9f3a\"], [0.8888888888888888, \"#fdca26\"], [1.0, \"#f0f921\"]], \"sequentialminus\": [[0.0, \"#0d0887\"], [0.1111111111111111, \"#46039f\"], [0.2222222222222222, \"#7201a8\"], [0.3333333333333333, \"#9c179e\"], [0.4444444444444444, \"#bd3786\"], [0.5555555555555556, \"#d8576b\"], [0.6666666666666666, \"#ed7953\"], [0.7777777777777778, \"#fb9f3a\"], [0.8888888888888888, \"#fdca26\"], [1.0, \"#f0f921\"]]}, \"colorway\": [\"#636efa\", \"#EF553B\", \"#00cc96\", \"#ab63fa\", \"#FFA15A\", \"#19d3f3\", \"#FF6692\", \"#B6E880\", \"#FF97FF\", \"#FECB52\"], \"font\": {\"color\": \"#2a3f5f\"}, \"geo\": {\"bgcolor\": \"white\", \"lakecolor\": \"white\", \"landcolor\": \"#E5ECF6\", \"showlakes\": true, \"showland\": true, \"subunitcolor\": \"white\"}, \"hoverlabel\": {\"align\": \"left\"}, \"hovermode\": \"closest\", \"mapbox\": {\"style\": \"light\"}, \"paper_bgcolor\": \"white\", \"plot_bgcolor\": \"#E5ECF6\", \"polar\": {\"angularaxis\": {\"gridcolor\": \"white\", \"linecolor\": \"white\", \"ticks\": \"\"}, \"bgcolor\": \"#E5ECF6\", \"radialaxis\": {\"gridcolor\": \"white\", \"linecolor\": \"white\", \"ticks\": \"\"}}, \"scene\": {\"xaxis\": {\"backgroundcolor\": \"#E5ECF6\", \"gridcolor\": \"white\", \"gridwidth\": 2, \"linecolor\": \"white\", \"showbackground\": true, \"ticks\": \"\", \"zerolinecolor\": \"white\"}, \"yaxis\": {\"backgroundcolor\": \"#E5ECF6\", \"gridcolor\": \"white\", \"gridwidth\": 2, \"linecolor\": \"white\", \"showbackground\": true, \"ticks\": \"\", \"zerolinecolor\": \"white\"}, \"zaxis\": {\"backgroundcolor\": \"#E5ECF6\", \"gridcolor\": \"white\", \"gridwidth\": 2, \"linecolor\": \"white\", \"showbackground\": true, \"ticks\": \"\", \"zerolinecolor\": \"white\"}}, \"shapedefaults\": {\"line\": {\"color\": \"#2a3f5f\"}}, \"ternary\": {\"aaxis\": {\"gridcolor\": \"white\", \"linecolor\": \"white\", \"ticks\": \"\"}, \"baxis\": {\"gridcolor\": \"white\", \"linecolor\": \"white\", \"ticks\": \"\"}, \"bgcolor\": \"#E5ECF6\", \"caxis\": {\"gridcolor\": \"white\", \"linecolor\": \"white\", \"ticks\": \"\"}}, \"title\": {\"x\": 0.05}, \"xaxis\": {\"automargin\": true, \"gridcolor\": \"white\", \"linecolor\": \"white\", \"ticks\": \"\", \"title\": {\"standoff\": 15}, \"zerolinecolor\": \"white\", \"zerolinewidth\": 2}, \"yaxis\": {\"automargin\": true, \"gridcolor\": \"white\", \"linecolor\": \"white\", \"ticks\": \"\", \"title\": {\"standoff\": 15}, \"zerolinecolor\": \"white\", \"zerolinewidth\": 2}}}, \"title\": {\"text\": \"3D Plot\"}},\n",
       "                        {\"responsive\": true}\n",
       "                    ).then(function(){\n",
       "                            \n",
       "var gd = document.getElementById('a9549f6c-ed3c-4f47-b8f7-9b6123c27180');\n",
       "var x = new MutationObserver(function (mutations, observer) {{\n",
       "        var display = window.getComputedStyle(gd).display;\n",
       "        if (!display || display === 'none') {{\n",
       "            console.log([gd, 'removed!']);\n",
       "            Plotly.purge(gd);\n",
       "            observer.disconnect();\n",
       "        }}\n",
       "}});\n",
       "\n",
       "// Listen for the removal of the full notebook cells\n",
       "var notebookContainer = gd.closest('#notebook-container');\n",
       "if (notebookContainer) {{\n",
       "    x.observe(notebookContainer, {childList: true});\n",
       "}}\n",
       "\n",
       "// Listen for the clearing of the current output cell\n",
       "var outputEl = gd.closest('.output');\n",
       "if (outputEl) {{\n",
       "    x.observe(outputEl, {childList: true});\n",
       "}}\n",
       "\n",
       "                        })\n",
       "                };\n",
       "                });\n",
       "            </script>\n",
       "        </div>"
      ]
     },
     "metadata": {},
     "output_type": "display_data"
    }
   ],
   "source": [
    "from rasterio.mask import mask\n",
    "\n",
    "tile_data = rio.open(tile_dsmfile)\n",
    "\n",
    "crop_img, crop_transform = mask(dataset=tile_data, shapes=polygon, crop=True, indexes=1, nodata=0, filled=True)\n",
    "#print(crop_img)\n",
    "\n",
    "fig = go.Figure(data=[go.Surface(z=crop_img)])\n",
    "\n",
    "fig.update_layout(title='3D Plot', autosize=True)\n",
    "\n",
    "fig.show()"
   ]
  },
  {
   "cell_type": "code",
   "execution_count": null,
   "metadata": {},
   "outputs": [],
   "source": []
  }
 ],
 "metadata": {
  "kernelspec": {
   "display_name": "Python 3",
   "language": "python",
   "name": "python3"
  },
  "language_info": {
   "codemirror_mode": {
    "name": "ipython",
    "version": 3
   },
   "file_extension": ".py",
   "mimetype": "text/x-python",
   "name": "python",
   "nbconvert_exporter": "python",
   "pygments_lexer": "ipython3",
   "version": "3.8.3"
  }
 },
 "nbformat": 4,
 "nbformat_minor": 2
}
